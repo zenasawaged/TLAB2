{
 "cells": [
  {
   "cell_type": "code",
   "execution_count": 1,
   "metadata": {},
   "outputs": [
    {
     "name": "stdout",
     "output_type": "stream",
     "text": [
      "Fraud Dataset: (500000, 11)\n"
     ]
    }
   ],
   "source": [
    "import pandas as pd\n",
    "import numpy as np\n",
    "\n",
    "import matplotlib.pyplot as plt\n",
    "import seaborn as sns\n",
    "\n",
    "from scipy import stats\n",
    "\n",
    "# loading our dataframes\n",
    "#we will be using df_f for our Financial Fraud Dataset sample. \n",
    "\n",
    "df_f = pd.read_csv('../TLAB 2 PHASE 2/PS_20174392719_1491204439457_log.csv')\n",
    "\n",
    "randomsample= df_f.sample(n=500000)\n",
    "\n",
    "#Let's figure out what do we have in our dataframes \n",
    "\n",
    "#First let's see what is the shappe of each dataframe \n",
    "print(\"Fraud Dataset:\", randomsample.shape)"
   ]
  },
  {
   "cell_type": "code",
   "execution_count": 2,
   "metadata": {},
   "outputs": [
    {
     "name": "stdout",
     "output_type": "stream",
     "text": [
      "Columns of Fraud Dataset: Index(['step', 'type', 'amount', 'nameOrig', 'oldbalanceOrg', 'newbalanceOrig',\n",
      "       'nameDest', 'oldbalanceDest', 'newbalanceDest', 'isFraud',\n",
      "       'isFlaggedFraud'],\n",
      "      dtype='object')\n"
     ]
    }
   ],
   "source": [
    "#let's see the type of columns \n",
    "\n",
    "print(\"Columns of Fraud Dataset:\", randomsample.columns)"
   ]
  },
  {
   "cell_type": "code",
   "execution_count": 3,
   "metadata": {},
   "outputs": [
    {
     "data": {
      "text/plain": [
       "step              0\n",
       "type              0\n",
       "amount            0\n",
       "nameOrig          0\n",
       "oldbalanceOrg     0\n",
       "newbalanceOrig    0\n",
       "nameDest          0\n",
       "oldbalanceDest    0\n",
       "newbalanceDest    0\n",
       "isFraud           0\n",
       "isFlaggedFraud    0\n",
       "dtype: int64"
      ]
     },
     "execution_count": 3,
     "metadata": {},
     "output_type": "execute_result"
    }
   ],
   "source": [
    "#let's see if we are missing any data \n",
    "randomsample.isna().sum()"
   ]
  },
  {
   "cell_type": "code",
   "execution_count": 12,
   "metadata": {},
   "outputs": [
    {
     "name": "stdout",
     "output_type": "stream",
     "text": [
      "                step        amount  oldbalanceOrg  newbalanceOrig  \\\n",
      "count  500000.000000  5.000000e+05   5.000000e+05    5.000000e+05   \n",
      "mean      243.586268  1.797740e+05   8.317169e+05    8.530405e+05   \n",
      "std       142.135843  6.025804e+05   2.882289e+06    2.918254e+06   \n",
      "min         1.000000  0.000000e+00   0.000000e+00    0.000000e+00   \n",
      "25%       156.000000  1.342962e+04   0.000000e+00    0.000000e+00   \n",
      "50%       240.000000  7.510871e+04   1.406076e+04    0.000000e+00   \n",
      "75%       335.000000  2.084565e+05   1.073094e+05    1.432972e+05   \n",
      "max       741.000000  7.117248e+07   4.958504e+07    4.143236e+07   \n",
      "\n",
      "       oldbalanceDest  newbalanceDest        isFraud  isFlaggedFraud  \n",
      "count    5.000000e+05    5.000000e+05  500000.000000   500000.000000  \n",
      "mean     1.107831e+06    1.232361e+06       0.001328        0.000002  \n",
      "std      3.441609e+06    3.716625e+06       0.036418        0.001414  \n",
      "min      0.000000e+00    0.000000e+00       0.000000        0.000000  \n",
      "25%      0.000000e+00    0.000000e+00       0.000000        0.000000  \n",
      "50%      1.343040e+05    2.166393e+05       0.000000        0.000000  \n",
      "75%      9.484338e+05    1.121143e+06       0.000000        0.000000  \n",
      "max      3.278278e+08    3.278521e+08       1.000000        1.000000  \n"
     ]
    }
   ],
   "source": [
    "#good news! no data is missing, let's try to get our basic stat info from dataframes \n",
    "print( randomsample.describe()) "
   ]
  },
  {
   "cell_type": "code",
   "execution_count": 13,
   "metadata": {},
   "outputs": [
    {
     "name": "stdout",
     "output_type": "stream",
     "text": [
      "<class 'pandas.core.frame.DataFrame'>\n",
      "Index: 500000 entries, 3229174 to 2909262\n",
      "Data columns (total 11 columns):\n",
      " #   Column          Non-Null Count   Dtype  \n",
      "---  ------          --------------   -----  \n",
      " 0   step            500000 non-null  int64  \n",
      " 1   type            500000 non-null  object \n",
      " 2   amount          500000 non-null  float64\n",
      " 3   nameOrig        500000 non-null  object \n",
      " 4   oldbalanceOrg   500000 non-null  float64\n",
      " 5   newbalanceOrig  500000 non-null  float64\n",
      " 6   nameDest        500000 non-null  object \n",
      " 7   oldbalanceDest  500000 non-null  float64\n",
      " 8   newbalanceDest  500000 non-null  float64\n",
      " 9   isFraud         500000 non-null  int64  \n",
      " 10  isFlaggedFraud  500000 non-null  int64  \n",
      "dtypes: float64(5), int64(3), object(3)\n",
      "memory usage: 45.8+ MB\n"
     ]
    }
   ],
   "source": [
    "randomsample.info()"
   ]
  },
  {
   "cell_type": "code",
   "execution_count": 16,
   "metadata": {},
   "outputs": [
    {
     "data": {
      "text/html": [
       "<div>\n",
       "<style scoped>\n",
       "    .dataframe tbody tr th:only-of-type {\n",
       "        vertical-align: middle;\n",
       "    }\n",
       "\n",
       "    .dataframe tbody tr th {\n",
       "        vertical-align: top;\n",
       "    }\n",
       "\n",
       "    .dataframe thead th {\n",
       "        text-align: right;\n",
       "    }\n",
       "</style>\n",
       "<table border=\"1\" class=\"dataframe\">\n",
       "  <thead>\n",
       "    <tr style=\"text-align: right;\">\n",
       "      <th></th>\n",
       "      <th>step</th>\n",
       "      <th>type</th>\n",
       "      <th>amount</th>\n",
       "      <th>nameOrig</th>\n",
       "      <th>oldbalanceOrg</th>\n",
       "      <th>newbalanceOrig</th>\n",
       "      <th>nameDest</th>\n",
       "      <th>oldbalanceDest</th>\n",
       "      <th>newbalanceDest</th>\n",
       "      <th>isFraud</th>\n",
       "      <th>isFlaggedFraud</th>\n",
       "    </tr>\n",
       "  </thead>\n",
       "  <tbody>\n",
       "    <tr>\n",
       "      <th>3229174</th>\n",
       "      <td>250</td>\n",
       "      <td>CASH_OUT</td>\n",
       "      <td>428211.50</td>\n",
       "      <td>C852787516</td>\n",
       "      <td>275.0</td>\n",
       "      <td>0.0</td>\n",
       "      <td>C588482337</td>\n",
       "      <td>11436987.14</td>\n",
       "      <td>11865198.64</td>\n",
       "      <td>0</td>\n",
       "      <td>0</td>\n",
       "    </tr>\n",
       "    <tr>\n",
       "      <th>4169244</th>\n",
       "      <td>304</td>\n",
       "      <td>CASH_OUT</td>\n",
       "      <td>564965.76</td>\n",
       "      <td>C1882364513</td>\n",
       "      <td>9910.0</td>\n",
       "      <td>0.0</td>\n",
       "      <td>C1538478284</td>\n",
       "      <td>0.00</td>\n",
       "      <td>564965.76</td>\n",
       "      <td>0</td>\n",
       "      <td>0</td>\n",
       "    </tr>\n",
       "    <tr>\n",
       "      <th>1667133</th>\n",
       "      <td>158</td>\n",
       "      <td>CASH_OUT</td>\n",
       "      <td>82262.35</td>\n",
       "      <td>C2139878344</td>\n",
       "      <td>0.0</td>\n",
       "      <td>0.0</td>\n",
       "      <td>C1447446716</td>\n",
       "      <td>286113.59</td>\n",
       "      <td>368375.95</td>\n",
       "      <td>0</td>\n",
       "      <td>0</td>\n",
       "    </tr>\n",
       "    <tr>\n",
       "      <th>4407541</th>\n",
       "      <td>322</td>\n",
       "      <td>CASH_OUT</td>\n",
       "      <td>164168.76</td>\n",
       "      <td>C1542165095</td>\n",
       "      <td>0.0</td>\n",
       "      <td>0.0</td>\n",
       "      <td>C915563874</td>\n",
       "      <td>3173264.10</td>\n",
       "      <td>3337432.87</td>\n",
       "      <td>0</td>\n",
       "      <td>0</td>\n",
       "    </tr>\n",
       "    <tr>\n",
       "      <th>1900522</th>\n",
       "      <td>165</td>\n",
       "      <td>PAYMENT</td>\n",
       "      <td>15122.95</td>\n",
       "      <td>C193798706</td>\n",
       "      <td>11545.0</td>\n",
       "      <td>0.0</td>\n",
       "      <td>M227423126</td>\n",
       "      <td>0.00</td>\n",
       "      <td>0.00</td>\n",
       "      <td>0</td>\n",
       "      <td>0</td>\n",
       "    </tr>\n",
       "  </tbody>\n",
       "</table>\n",
       "</div>"
      ],
      "text/plain": [
       "         step      type     amount     nameOrig  oldbalanceOrg  \\\n",
       "3229174   250  CASH_OUT  428211.50   C852787516          275.0   \n",
       "4169244   304  CASH_OUT  564965.76  C1882364513         9910.0   \n",
       "1667133   158  CASH_OUT   82262.35  C2139878344            0.0   \n",
       "4407541   322  CASH_OUT  164168.76  C1542165095            0.0   \n",
       "1900522   165   PAYMENT   15122.95   C193798706        11545.0   \n",
       "\n",
       "         newbalanceOrig     nameDest  oldbalanceDest  newbalanceDest  isFraud  \\\n",
       "3229174             0.0   C588482337     11436987.14     11865198.64        0   \n",
       "4169244             0.0  C1538478284            0.00       564965.76        0   \n",
       "1667133             0.0  C1447446716       286113.59       368375.95        0   \n",
       "4407541             0.0   C915563874      3173264.10      3337432.87        0   \n",
       "1900522             0.0   M227423126            0.00            0.00        0   \n",
       "\n",
       "         isFlaggedFraud  \n",
       "3229174               0  \n",
       "4169244               0  \n",
       "1667133               0  \n",
       "4407541               0  \n",
       "1900522               0  "
      ]
     },
     "execution_count": 16,
     "metadata": {},
     "output_type": "execute_result"
    }
   ],
   "source": [
    "randomsample.head()"
   ]
  },
  {
   "cell_type": "code",
   "execution_count": 14,
   "metadata": {},
   "outputs": [
    {
     "data": {
      "image/png": "[encoded data removed]",
      "text/plain": [
       "<Figure size 640x480 with 1 Axes>"
      ]
     },
     "metadata": {},
     "output_type": "display_data"
    }
   ],
   "source": [
    "#let's visualize how many are marked Flagged based off of the naive model\n",
    "plt.title('Histogram representation of Fraud status')\n",
    "sns.histplot(randomsample['isFraud'])\n",
    "plt.yscale(\"log\")\n"
   ]
  },
  {
   "cell_type": "code",
   "execution_count": 17,
   "metadata": {},
   "outputs": [
    {
     "data": {
      "image/png": "[encoded data removed]",
      "text/plain": [
       "<Figure size 1000x600 with 1 Axes>"
      ]
     },
     "metadata": {},
     "output_type": "display_data"
    }
   ],
   "source": [
    "# Bivariate analysis with hue - using a mix of scatter plots, bar plots, and box plots\n",
    "def plot_bivariate_hue(df, x, y, hue, plot_type=\"scatter\",palette=None):\n",
    "    plt.figure(figsize=(10, 6))\n",
    "    if plot_type == \"scatter\":\n",
    "        sns.scatterplot(data=df, x=x, y=y, hue=hue, palette=None)\n",
    "    elif plot_type == \"bar\":\n",
    "        sns.barplot(data=df, x=x, y=y, hue=hue, palette=None)\n",
    "    elif plot_type == \"box\":\n",
    "        sns.boxplot(data=df, x=x, y=y, hue=hue, palette=None)\n",
    "    elif plot_type == \"violin\":\n",
    "        sns.violinplot(data=df, x=x, y=y, hue=hue, palette=None)\n",
    "    plt.title(f'{y} vs {x} with {hue} as hue')\n",
    "    plt.show()\n",
    "\n",
    "# Scatter plot with hue (for numerical variables)\n",
    "plot_bivariate_hue(randomsample, x='oldbalanceOrg', y='newbalanceOrig',plot_type=\"violin\",hue=\"isFraud\",palette= \"Set2\")\n",
    "# Box plot with hue (for mixed variables)\n",
    "# plot_bivariate_hue(data, 'oldbalanceDest', 'newbalanceDest', 'isFraud', 'isFlaggedFraud',  plot_type=\"box\")\n",
    "\n",
    "# Bar plot with hue (for categorical variables)\n",
    "# plot_bivariate_hue(data, 'amount', 'isFraud', 'isFlaggedFraud', plot_type=\"bar\")\n"
   ]
  },
  {
   "cell_type": "code",
   "execution_count": null,
   "metadata": {},
   "outputs": [
    {
     "ename": "",
     "evalue": "",
     "output_type": "error",
     "traceback": [
      "\u001b[1;31mRunning cells with '/System/Library/Frameworks/Python.framework/Versions/2.7/Resources/Python.app/Contents/MacOS/Python' requires the ipykernel package.\n",
      "\u001b[1;31mRun the following command to install 'ipykernel' into the Python environment. \n",
      "\u001b[1;31mCommand: '/System/Library/Frameworks/Python.framework/Versions/2.7/Resources/Python.app/Contents/MacOS/Python -m pip install ipykernel -U --user --force-reinstall'"
     ]
    }
   ],
   "source": [
    "plot_bivariate_hue(data, 'oldbalanceDest', 'newbalanceDest', 'isFraud', 'isFlaggedFraud',  plot_type=\"box\")"
   ]
  },
  {
   "cell_type": "code",
   "execution_count": null,
   "metadata": {},
   "outputs": [
    {
     "ename": "",
     "evalue": "",
     "output_type": "error",
     "traceback": [
      "\u001b[1;31mRunning cells with '/System/Library/Frameworks/Python.framework/Versions/2.7/Resources/Python.app/Contents/MacOS/Python' requires the ipykernel package.\n",
      "\u001b[1;31mRun the following command to install 'ipykernel' into the Python environment. \n",
      "\u001b[1;31mCommand: '/System/Library/Frameworks/Python.framework/Versions/2.7/Resources/Python.app/Contents/MacOS/Python -m pip install ipykernel -U --user --force-reinstall'"
     ]
    }
   ],
   "source": [
    "python get-pip.py"
   ]
  },
  {
   "cell_type": "code",
   "execution_count": null,
   "metadata": {},
   "outputs": [
    {
     "ename": "",
     "evalue": "",
     "output_type": "error",
     "traceback": [
      "\u001b[1;31mRunning cells with '/System/Library/Frameworks/Python.framework/Versions/2.7/Resources/Python.app/Contents/MacOS/Python' requires the ipykernel package.\n",
      "\u001b[1;31mRun the following command to install 'ipykernel' into the Python environment. \n",
      "\u001b[1;31mCommand: '/System/Library/Frameworks/Python.framework/Versions/2.7/Resources/Python.app/Contents/MacOS/Python -m pip install ipykernel -U --user --force-reinstall'"
     ]
    }
   ],
   "source": [
    "'/System/Library/Frameworks/Python.framework/Versions/2.7/Resources/Python.app/Contents/MacOS/Python -m pip install ipykernel -U --user --force-reinstall'"
   ]
  }
 ],
 "metadata": {
  "kernelspec": {
   "display_name": "phase1",
   "language": "python",
   "name": "python3"
  },
  "language_info": {
   "codemirror_mode": {
    "name": "ipython",
    "version": 3
   },
   "file_extension": ".py",
   "mimetype": "text/x-python",
   "name": "python",
   "nbconvert_exporter": "python",
   "pygments_lexer": "ipython3",
   "version": "3.9.18"
  },
  "orig_nbformat": 4
 },
 "nbformat": 4,
 "nbformat_minor": 2
}
